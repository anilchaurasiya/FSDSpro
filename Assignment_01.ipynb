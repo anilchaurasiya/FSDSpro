{
 "cells": [
  {
   "cell_type": "code",
   "execution_count": 3,
   "id": "ad7c3a7d-93e8-4542-9623-f7e6610504e3",
   "metadata": {},
   "outputs": [
    {
     "name": "stdout",
     "output_type": "stream",
     "text": [
      "After Swapping value of X is 20\n",
      "After Swapping value of Y is 10\n"
     ]
    }
   ],
   "source": [
    "'''1. Declare two variables, `x` and `y`, and assign them integer values.\n",
    "Swap the values of these variables without using any temporary\n",
    "variable.'''\n",
    "\n",
    "x = 10\n",
    "y = 20\n",
    "x = x+y ,
    "y = x-y ,
    "x = x-y ",
    "print('After Swapping value of X is', x)\n",
    "print('After Swapping value of Y is', y)"
   ]
  },
  {
   "cell_type": "code",
   "execution_count": 5,
   "id": "6f41f58d-5424-4c86-b161-2ad2ebf91192",
   "metadata": {},
   "outputs": [
    {
     "name": "stdin",
     "output_type": "stream",
     "text": [
      "Enter the length of Rectangle 44.00\n",
      "Enter the width of Rectangle 23.34\n"
     ]
    },
    {
     "name": "stdout",
     "output_type": "stream",
     "text": [
      "Area Of the Rectangle 1026.96\n"
     ]
    }
   ],
   "source": [
    "'''2. Create a program that calculates the area of a rectangle. Take the\n",
    "length and width as inputs from the user and store them in variables.\n",
    "Calculate and display the area.'''\n",
    "\n",
    "length = float(input(\"Enter the length of Rectangle\"))\n",
    "width = float(input(\"Enter the width of Rectangle\"))\n",
    "Area = length*width\n",
    "print(\"Area Of the Rectangle\", Area)"
   ]
  },
  {
   "cell_type": "code",
   "execution_count": 4,
   "id": "a325d56c-838d-4ecb-9f41-3f72304b3472",
   "metadata": {},
   "outputs": [
    {
     "name": "stdin",
     "output_type": "stream",
     "text": [
      "Enter the temprature in Celcius 37\n"
     ]
    },
    {
     "name": "stdout",
     "output_type": "stream",
     "text": [
      "Temprature in Fahrenheit is : 98.60000000000001\n"
     ]
    }
   ],
   "source": [
    "'''3. Write a Python program that converts temperature from Celsius to\n",
    "Fahrenheit. Take the temperature in Celsius as input, store it in a\n",
    "variable, convert it to Fahrenheit, and display the result.'''\n",
    "\n",
    "temp = float(input(\"Enter the temprature in Celcius\"))\n",
    "f_temp = temp * (9/5) + 32\n",
    "print(\"Temprature in Fahrenheit is :\",f_temp)"
   ]
  },
  {
   "cell_type": "code",
   "execution_count": 8,
   "id": "5e83176b-9356-4db7-bb46-a82e1f1ac8bd",
   "metadata": {},
   "outputs": [
    {
     "name": "stdin",
     "output_type": "stream",
     "text": [
      "Enter the string anilchaurasiya\n"
     ]
    },
    {
     "name": "stdout",
     "output_type": "stream",
     "text": [
      "Length Of the given string is : 14\n"
     ]
    }
   ],
   "source": [
    "'''1. Write a Python program that takes a string as input and prints the\n",
    "length of the string.'''\n",
    "\n",
    "string = input(\"Enter the string\")\n",
    "length = len(string)\n",
    "print(\"Length Of the given string is :\",length)"
   ]
  },
  {
   "cell_type": "code",
   "execution_count": 14,
   "id": "d01553c4-6757-4f21-af51-37a97c0041c2",
   "metadata": {},
   "outputs": [
    {
     "name": "stdin",
     "output_type": "stream",
     "text": [
      "Enter string: anil\n"
     ]
    },
    {
     "name": "stdout",
     "output_type": "stream",
     "text": [
      "Number of vowels are: 2\n"
     ]
    }
   ],
   "source": [
    "'''2. Create a program that takes a sentence from the user and counts the\n",
    "number of vowels (a, e, i, o, u) in the string.'''\n",
    "\n",
    "string=input(\"Enter string:\")\n",
    "v=0\n",
    "for i in string:\n",
    "      if(i=='a' or i=='e' or i=='i' or i=='o' or i=='u' or i=='A' or i=='E' or i=='I' or i=='O' or i=='U'):\n",
    "            v=v+1\n",
    "print(\"Number of vowels are:\",v)         "
   ]
  },
  {
   "cell_type": "code",
   "execution_count": 28,
   "id": "e8546217-8f7c-4573-b3f1-bb7f68b46aa7",
   "metadata": {},
   "outputs": [
    {
     "name": "stdin",
     "output_type": "stream",
     "text": [
      "Enter the string :  Physics Wallah\n"
     ]
    },
    {
     "name": "stdout",
     "output_type": "stream",
     "text": [
      "hallaW scisyhP\n"
     ]
    }
   ],
   "source": [
    "'''3. Given a string, reverse the order of characters using string slicing and print\n",
    "the reversed string.'''\n",
    "\n",
    "string = input(\"Enter the string : \")\n",
    "rev = string[::-1]\n",
    "print(rev)"
   ]
  },
  {
   "cell_type": "code",
   "execution_count": 37,
   "id": "b0ade79d-9738-4062-9f82-fb25c6b05ee3",
   "metadata": {},
   "outputs": [
    {
     "name": "stdin",
     "output_type": "stream",
     "text": [
      "Enter the string :  NITIN NITIN\n"
     ]
    },
    {
     "name": "stdout",
     "output_type": "stream",
     "text": [
      "Given String is Palindrome\n"
     ]
    }
   ],
   "source": [
    "'''4. Write a program that takes a string as input and checks if it is a palindrome\n",
    "(reads the same forwards and backwards).'''\n",
    "\n",
    "string = input(\"Enter the string : \")\n",
    "rev_str = string[::-1]\n",
    "if string == rev_str:\n",
    "    print(\"Given String is Palindrome\")\n",
    "else: \n",
    "    print(\"Given String is Not Palindrome\")"
   ]
  },
  {
   "cell_type": "code",
   "execution_count": 39,
   "id": "3d259768-e349-4e97-bf5f-bdd5bc5d978c",
   "metadata": {},
   "outputs": [
    {
     "name": "stdin",
     "output_type": "stream",
     "text": [
      "Enter the string:        PWLabs            \n"
     ]
    },
    {
     "name": "stdout",
     "output_type": "stream",
     "text": [
      "PWLabs\n"
     ]
    }
   ],
   "source": [
    "'''5. Create a program that takes a string as input and removes all the spaces from\n",
    "it. Print the modified string without spaces.'''\n",
    "\n",
    "string = input(\"Enter the string:\") \n",
    "string1 = string.strip()\n",
    "print(string1)"
   ]
  },
  {
   "cell_type": "code",
   "execution_count": null,
   "id": "1ee3cf3b-db98-40f0-b67f-708f86aafd3f",
   "metadata": {},
   "outputs": [],
   "source": []
  }
 ],
 "metadata": {
  "kernelspec": {
   "display_name": "Python 3 (ipykernel)",
   "language": "python",
   "name": "python3"
  },
  "language_info": {
   "codemirror_mode": {
    "name": "ipython",
    "version": 3
   },
   "file_extension": ".py",
   "mimetype": "text/x-python",
   "name": "python",
   "nbconvert_exporter": "python",
   "pygments_lexer": "ipython3",
   "version": "3.10.8"
  }
 },
 "nbformat": 4,
 "nbformat_minor": 5
}
